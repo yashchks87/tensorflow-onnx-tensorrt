{
 "cells": [
  {
   "cell_type": "code",
   "execution_count": 13,
   "metadata": {},
   "outputs": [
    {
     "name": "stdout",
     "output_type": "stream",
     "text": [
      "The autoreload extension is already loaded. To reload it, use:\n",
      "  %reload_ext autoreload\n"
     ]
    }
   ],
   "source": [
    "import glob\n",
    "import sys\n",
    "sys.path.append('../scripts/')\n",
    "from create_dataset import img_batches, img_batches_mp\n",
    "%load_ext autoreload\n",
    "%autoreload 2\n",
    "# import cv2\n",
    "# import PIL\n",
    "import time"
   ]
  },
  {
   "cell_type": "code",
   "execution_count": 8,
   "metadata": {},
   "outputs": [],
   "source": [
    "files = glob.glob('../../files/train_v2/*.jpg')"
   ]
  },
  {
   "cell_type": "code",
   "execution_count": 18,
   "metadata": {},
   "outputs": [
    {
     "name": "stdout",
     "output_type": "stream",
     "text": [
      "0.7809147834777832\n"
     ]
    }
   ],
   "source": [
    "start = time.time()\n",
    "batches = img_batches(files[:100], 100)\n",
    "end = time.time()\n",
    "print(end - start)"
   ]
  },
  {
   "cell_type": "code",
   "execution_count": 19,
   "metadata": {},
   "outputs": [
    {
     "name": "stdout",
     "output_type": "stream",
     "text": [
      "0.27400946617126465\n"
     ]
    }
   ],
   "source": [
    "start = time.time()\n",
    "batches = img_batches_mp(files[:100])\n",
    "end = time.time()\n",
    "print(end - start)"
   ]
  },
  {
   "cell_type": "code",
   "execution_count": null,
   "metadata": {},
   "outputs": [],
   "source": []
  },
  {
   "cell_type": "code",
   "execution_count": 11,
   "metadata": {},
   "outputs": [
    {
     "name": "stderr",
     "output_type": "stream",
     "text": [
      "2023-05-12 00:20:09.743720: F tensorflow/compiler/xla/stream_executor/cuda/cuda_driver.cc:147] Failed setting context: CUDA_ERROR_NOT_INITIALIZED: initialization error\n",
      "2023-05-12 00:20:09.743836: F tensorflow/compiler/xla/stream_executor/cuda/cuda_driver.cc:147] Failed setting context: CUDA_ERROR_NOT_INITIALIZED: initialization error\n",
      "2023-05-12 00:20:09.743991: F tensorflow/compiler/xla/stream_executor/cuda/cuda_driver.cc:147] Failed setting context: CUDA_ERROR_NOT_INITIALIZED: initialization error\n",
      "2023-05-12 00:20:09.744050: F tensorflow/compiler/xla/stream_executor/cuda/cuda_driver.cc:147] Failed setting context: CUDA_ERROR_NOT_INITIALIZED: initialization error\n",
      "2023-05-12 00:20:09.744062: F tensorflow/compiler/xla/stream_executor/cuda/cuda_driver.cc:147] Failed setting context: CUDA_ERROR_NOT_INITIALIZED: initialization error\n",
      "2023-05-12 00:20:39.908251: F tensorflow/compiler/xla/stream_executor/cuda/cuda_driver.cc:147] Failed setting context: CUDA_ERROR_NOT_INITIALIZED: initialization error\n",
      "2023-05-12 00:20:39.917341: F tensorflow/compiler/xla/stream_executor/cuda/cuda_driver.cc:147] Failed setting context: CUDA_ERROR_NOT_INITIALIZED: initialization error\n",
      "2023-05-12 00:20:39.927852: F tensorflow/compiler/xla/stream_executor/cuda/cuda_driver.cc:147] Failed setting context: CUDA_ERROR_NOT_INITIALIZED: initialization error\n",
      "2023-05-12 00:20:39.938288: F tensorflow/compiler/xla/stream_executor/cuda/cuda_driver.cc:147] Failed setting context: CUDA_ERROR_NOT_INITIALIZED: initialization error\n"
     ]
    }
   ],
   "source": [
    "data = img_batches_mp(files[:32])"
   ]
  },
  {
   "cell_type": "code",
   "execution_count": null,
   "metadata": {},
   "outputs": [],
   "source": []
  },
  {
   "cell_type": "code",
   "execution_count": null,
   "metadata": {},
   "outputs": [],
   "source": []
  }
 ],
 "metadata": {
  "kernelspec": {
   "display_name": "tensor_env",
   "language": "python",
   "name": "tensor_env"
  },
  "language_info": {
   "codemirror_mode": {
    "name": "ipython",
    "version": 3
   },
   "file_extension": ".py",
   "mimetype": "text/x-python",
   "name": "python",
   "nbconvert_exporter": "python",
   "pygments_lexer": "ipython3",
   "version": "3.8.10"
  },
  "orig_nbformat": 4
 },
 "nbformat": 4,
 "nbformat_minor": 2
}
